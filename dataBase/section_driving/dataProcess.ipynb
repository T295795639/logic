{
 "cells": [
  {
   "cell_type": "code",
   "execution_count": 1,
   "metadata": {
    "collapsed": true
   },
   "outputs": [],
   "source": [
    "import pandas as pd\n",
    "from temp import *"
   ]
  },
  {
   "cell_type": "code",
   "execution_count": 28,
   "outputs": [
    {
     "name": "stdout",
     "output_type": "stream",
     "text": [
      "316_down.csv D:\\pycharmProject\\logic\\dataBase\\section_driving\\section_drivings\\316_down.csv\n",
      "316_up.csv D:\\pycharmProject\\logic\\dataBase\\section_driving\\section_drivings\\316_up.csv\n"
     ]
    }
   ],
   "source": [
    "# step1 去除第一段数据的异常\n",
    "# 补全 spentTime 或者 aveSpeed 为0的数据\n",
    "# spentTime aveSpeed\n",
    "fNameL, pathL = getPath(r'D:\\pycharmProject\\logic\\dataBase\\section_driving\\section_drivings')\n",
    "for name, path in zip(fNameL, pathL):\n",
    "    try:\n",
    "        name2 = name.replace('.csv', '')+'0'\n",
    "        df = pd.read_csv(path)\n",
    "        spentTime_mean = df.loc[df['sectionId']!=name2, 'spentTime'].mean()\n",
    "        aveSpeed_mean = df.loc[df['sectionId']!=name2, 'aveSpeed'].mean()\n",
    "        df.loc[df['sectionId']==name2, 'spentTime'] = spentTime_mean\n",
    "        df.loc[df['sectionId']==name2, 'aveSpeed'] = aveSpeed_mean\n",
    "        df.loc[df['spentTime']==0, 'spentTime'] = spentTime_mean\n",
    "        df.loc[df['aveSpeed']==0, 'aveSpeed'] = aveSpeed_mean\n",
    "        df.to_csv(path, index=False)\n",
    "    except:\n",
    "        print(name, path)"
   ],
   "metadata": {
    "collapsed": false,
    "pycharm": {
     "name": "#%%\n"
    }
   }
  },
  {
   "cell_type": "code",
   "execution_count": 29,
   "outputs": [],
   "source": [
    "fNameL, pathL = getPath(r'D:\\pycharmProject\\logic\\dataBase\\section_driving\\section_drivings')\n",
    "for name, path in zip(fNameL, pathL):\n",
    "    try:\n",
    "        df = pd.read_csv(path)\n",
    "        del df['Unnamed: 0']\n",
    "        df.to_csv(path, index=False)\n",
    "    except:\n",
    "        pass"
   ],
   "metadata": {
    "collapsed": false,
    "pycharm": {
     "name": "#%%\n"
    }
   }
  },
  {
   "cell_type": "code",
   "execution_count": 2,
   "outputs": [
    {
     "name": "stderr",
     "output_type": "stream",
     "text": [
      "100%|██████████| 542/542 [02:37<00:00,  3.43it/s]\n",
      "100%|██████████| 542/542 [01:12<00:00,  7.45it/s]\n"
     ]
    }
   ],
   "source": [
    "from temp import *\n",
    "from tqdm import tqdm\n",
    "import pandas as pd\n",
    "fNameL, pathL = getPath(r'D:\\pycharmProject\\logic\\dataBase\\section_driving\\section_drivings')\n",
    "for path in tqdm(pathL):\n",
    "    df = pd.read_csv(path)\n",
    "    df = df[(df['start_date_time'] != '-1') & (df['start_date_time'] != 'start_date_time')]\n",
    "    df.to_csv(path.replace('section_drivings', 'section_drivings2'), index=False)\n",
    "\n",
    "fNameL, pathL = getPath(r'D:\\pycharmProject\\logic\\dataBase\\section_driving\\station_parkings')\n",
    "for path in tqdm(pathL):\n",
    "    df = pd.read_csv(path)\n",
    "    df = df[(df['start_date_time'] != '-1') & (df['start_date_time'] != 'start_date_time')]\n",
    "    df.to_csv(path.replace('station_parkings', 'station_parkings2'), index=False)"
   ],
   "metadata": {
    "collapsed": false,
    "pycharm": {
     "name": "#%%\n"
    }
   }
  },
  {
   "cell_type": "code",
   "execution_count": 9,
   "outputs": [
    {
     "name": "stderr",
     "output_type": "stream",
     "text": [
      "100%|██████████| 542/542 [02:28<00:00,  3.65it/s]\n"
     ]
    }
   ],
   "source": [
    "from tqdm import tqdm\n",
    "from temp import *\n",
    "# fNameL, pathL = getPath(r'D:\\pycharmProject\\logic\\dataBase\\section_driving\\station_parkings')\n",
    "# for path in tqdm(pathL):\n",
    "#     df = pd.read_csv(path)\n",
    "#     filter = df.apply(lambda x: len(x['path']) < 1000, axis=1)\n",
    "#     df = df[filter]\n",
    "#     df.to_csv(path.replace('station_parkings', 'station_parkings2'), index=False)\n",
    "#     break\n",
    "\n",
    "fNameL, pathL = getPath(r'D:\\pycharmProject\\logic\\dataBase\\section_driving\\section_drivings')\n",
    "for i, path in enumerate(tqdm(pathL)):\n",
    "    df = pd.read_csv(path)\n",
    "    filter = df.apply(lambda x: len(x['path']) < 20000, axis=1)\n",
    "    df = df[filter]\n",
    "    df.to_csv(path.replace('section_drivings', 'section_drivings2'), index=False)\n"
   ],
   "metadata": {
    "collapsed": false,
    "pycharm": {
     "name": "#%%\n"
    }
   }
  }
 ],
 "metadata": {
  "kernelspec": {
   "display_name": "Python 3",
   "language": "python",
   "name": "python3"
  },
  "language_info": {
   "codemirror_mode": {
    "name": "ipython",
    "version": 2
   },
   "file_extension": ".py",
   "mimetype": "text/x-python",
   "name": "python",
   "nbconvert_exporter": "python",
   "pygments_lexer": "ipython2",
   "version": "2.7.6"
  }
 },
 "nbformat": 4,
 "nbformat_minor": 0
}